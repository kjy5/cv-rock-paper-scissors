{
 "cells": [
  {
   "attachments": {},
   "cell_type": "markdown",
   "metadata": {},
   "source": [
    "# Train the RPS model\n",
    "\n",
    "[![Open In Colab](https://colab.research.google.com/assets/colab-badge.svg)](https://colab.research.google.com/github/kjy5/cv-rock-paper-scissors/blob/main/scripts/train.ipynb)\n",
    "\n",
    "# TEMP: resources:\n",
    "- For transfer learning see [transfer learning](https://pytorch.org/tutorials/beginner/transfer_learning_tutorial.html)\n",
    "\n",
    "- For saving/loading: [save load run](https://pytorch.org/tutorials/beginner/basics/saveloadrun_tutorial.html)\n",
    "\n",
    "## Setup\n",
    "### 1. Download data\n",
    "Only need to run this once"
   ]
  },
  {
   "cell_type": "code",
   "execution_count": null,
   "metadata": {
    "collapsed": false
   },
   "outputs": [],
   "source": [
    "!wget --no-check-certificate 'https://drive.google.com/uc?export=download&id=11IkCeaEsjysSaWgMEI3SwkSzJ1Tmxz1i&confirm=t' -O data.zip\n",
    "!unzip data.zip\n",
    "!rm -rf data.zip"
   ]
  },
  {
   "cell_type": "markdown",
   "metadata": {
    "collapsed": false
   },
   "source": [
    "### 2. Import libraries"
   ]
  },
  {
   "cell_type": "code",
   "execution_count": 1,
   "metadata": {},
   "outputs": [],
   "source": [
    "import torch\n",
    "from torch import nn, optim\n",
    "from torch.utils.data import DataLoader, random_split\n",
    "from torchvision import transforms, datasets, models"
   ]
  },
  {
   "cell_type": "markdown",
   "metadata": {
    "collapsed": false
   },
   "source": [
    "### 3. Set up device"
   ]
  },
  {
   "cell_type": "code",
   "execution_count": null,
   "metadata": {
    "collapsed": false
   },
   "outputs": [],
   "source": [
    "d = torch.device(\"cpu\")\n",
    "# Use a CUDA GPU if possible (Apple Silicon MPS backend technically works, but is confusingly slow)\n",
    "if torch.cuda.is_available():\n",
    "    d = torch.device(\"cuda:0\")\n",
    "d"
   ]
  },
  {
   "cell_type": "markdown",
   "metadata": {
    "collapsed": false
   },
   "source": [
    "## Loading data and model\n",
    "### Define constants"
   ]
  },
  {
   "cell_type": "code",
   "execution_count": 3,
   "metadata": {
    "collapsed": false
   },
   "outputs": [],
   "source": [
    "DATA_DIR = \"data\"\n",
    "TEST_VAL_RATIO = 0.8\n",
    "BATCH_SIZE = 16"
   ]
  },
  {
   "cell_type": "markdown",
   "metadata": {
    "collapsed": false
   },
   "source": [
    "### Define transformers"
   ]
  },
  {
   "cell_type": "code",
   "execution_count": 4,
   "metadata": {
    "collapsed": false
   },
   "outputs": [],
   "source": [
    "preprocess = transforms.Compose(\n",
    "    [\n",
    "        transforms.ToTensor(),\n",
    "        transforms.Resize(224),\n",
    "        transforms.CenterCrop(224),\n",
    "        transforms.Normalize(mean=[0.485, 0.456, 0.406], std=[0.229, 0.224, 0.225]),\n",
    "    ]\n",
    ")\n"
   ]
  },
  {
   "cell_type": "markdown",
   "metadata": {
    "collapsed": false
   },
   "source": [
    "### Load data"
   ]
  },
  {
   "cell_type": "code",
   "execution_count": 5,
   "metadata": {
    "collapsed": false
   },
   "outputs": [],
   "source": [
    "dataset = datasets.ImageFolder(DATA_DIR, preprocess)\n",
    "\n",
    "# Split into train and val\n",
    "train_len = int(len(dataset) * TEST_VAL_RATIO)\n",
    "val_len = int(len(dataset) - train_len)\n",
    "train_dataset, val_dataset = random_split(dataset, [train_len, val_len])\n",
    "\n",
    "train_loader = DataLoader(train_dataset, BATCH_SIZE, True, pin_memory=True)\n",
    "val_loader = DataLoader(val_dataset, BATCH_SIZE, True, pin_memory=True)\n"
   ]
  },
  {
   "cell_type": "markdown",
   "metadata": {
    "collapsed": false
   },
   "source": [
    "### Load Model"
   ]
  },
  {
   "cell_type": "code",
   "execution_count": null,
   "metadata": {},
   "outputs": [],
   "source": [
    "# Load in a pretrained model\n",
    "model = models.resnet18(weights=models.ResNet18_Weights.IMAGENET1K_V1)\n",
    "for param in model.parameters():\n",
    "    param.requires_grad = True # Set to false to leave ResNet unchanged during training\n",
    "model.fc = nn.Linear(in_features=model.fc.in_features, out_features=4, bias=True)\n",
    "model.to(d)"
   ]
  },
  {
   "cell_type": "code",
   "execution_count": null,
   "metadata": {},
   "outputs": [],
   "source": [
    "# Load presaved model\n",
    "model = torch.load(\"model.pth\")\n",
    "model.to(d)"
   ]
  },
  {
   "attachments": {},
   "cell_type": "markdown",
   "metadata": {},
   "source": [
    "## Train"
   ]
  },
  {
   "cell_type": "code",
   "execution_count": null,
   "metadata": {},
   "outputs": [],
   "source": [
    "# Usually need to do around 10 to get it trained\n",
    "epochs = 1\n",
    "\n",
    "# This usually needs to get shrunk in later epochs\n",
    "optimizer = optim.Adam(model.parameters(), 0.0001)\n",
    "loss = nn.CrossEntropyLoss()\n",
    "\n",
    "for i in range(epochs):    \n",
    "    # Do a training run and evaluate it after\n",
    "    epoch_loss = 0\n",
    "    epoch_cor = 0\n",
    "    epoch_total = 0\n",
    "\n",
    "    # Training mode\n",
    "    model.train()\n",
    "\n",
    "    for inputs, labels in train_loader:\n",
    "        inputs = inputs.to(d)\n",
    "        labels = labels.to(d)\n",
    "\n",
    "        optimizer.zero_grad()\n",
    "        # Run through model\n",
    "        predictions = model(inputs)\n",
    "        batch_loss = loss(predictions, labels)\n",
    "\n",
    "        epoch_loss += batch_loss.item()\n",
    "        epoch_total += len(predictions)\n",
    "        epoch_cor += torch.sum(torch.argmax(predictions, 1) == labels).item()\n",
    "\n",
    "        # Do a round of gradient descent\n",
    "        batch_loss.backward()\n",
    "        optimizer.step()\n",
    "    epoch_acc = epoch_cor / epoch_total\n",
    "\n",
    "    print(f\"Epoch {i+1}/{epochs}: loss={epoch_loss}, acc={epoch_cor}/{epoch_total}\")\n",
    "\n",
    "    # See how well it does on the validation set\n",
    "    model.eval() # Prediction mode\n",
    "    val_cor = 0\n",
    "    val_loss = 0\n",
    "    val_total = 0\n",
    "    with torch.no_grad():\n",
    "        for inputs, labels in val_loader:\n",
    "            inputs = inputs.to(d)\n",
    "            labels = labels.to(d)\n",
    "\n",
    "            predictions = model(inputs)\n",
    "            batch_loss = loss(predictions, labels)\n",
    "\n",
    "            val_loss += batch_loss.item()\n",
    "            val_total += len(predictions)\n",
    "            val_cor += torch.sum(torch.argmax(predictions, 1) == labels).item()\n",
    "    print(f\"Validation loss={val_loss}, acc={val_cor}/{val_total}\")\n",
    "\n",
    "        "
   ]
  },
  {
   "attachments": {},
   "cell_type": "markdown",
   "metadata": {},
   "source": [
    "## Save when finished"
   ]
  },
  {
   "cell_type": "code",
   "execution_count": 18,
   "metadata": {},
   "outputs": [],
   "source": [
    "# Save model\n",
    "torch.save(model, \"model.pth\")"
   ]
  }
 ],
 "metadata": {
  "kernelspec": {
   "display_name": "venv",
   "language": "python",
   "name": "python3"
  },
  "language_info": {
   "codemirror_mode": {
    "name": "ipython",
    "version": 3
   },
   "file_extension": ".py",
   "mimetype": "text/x-python",
   "name": "python",
   "nbconvert_exporter": "python",
   "pygments_lexer": "ipython3",
   "version": "3.10.9"
  },
  "orig_nbformat": 4,
  "vscode": {
   "interpreter": {
    "hash": "20c45cb1bf71dfa8979fa82a78b4fb18d0aae9298832ad48008189d98f375aaa"
   }
  }
 },
 "nbformat": 4,
 "nbformat_minor": 2
}
